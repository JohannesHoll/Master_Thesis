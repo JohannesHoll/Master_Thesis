{
 "cells": [
  {
   "cell_type": "code",
   "execution_count": null,
   "metadata": {},
   "outputs": [],
   "source": [
    "#!/usr/bin/env python\n",
    "# coding: utf-8\n",
    "\n",
    "# import of relevant libraries\n",
    "import scrapy\n",
    "from scrapy.crawler import CrawlerProcess\n",
    "from scrapy import Selector\n",
    "from scrapy.linkextractors import LinkExtractor\n",
    "from ferrari_scraper.items import FerrariItem\n",
    "import numpy as np\n",
    "from scrapy.loader import ItemLoader\n",
    "import csv\n",
    "from datetime import datetime\n",
    "\n",
    "#creating spider for Ferrari\n",
    "\n",
    "class FinanceNewsScraperSpider(scrapy.Spider):\n",
    "    name = \"ferrarinewsarticles\"\n",
    "    \n",
    "    def start_requests(self):\n",
    "        start_urls = ['https://www.reuters.com/companies/RACE.MI/news',\n",
    "                      ]\n",
    "        \n",
    "        urls = start_urls\n",
    "        \n",
    "        for url in urls:\n",
    "            yield scrapy.Request(url=url, callback=self.parse_newspage)\n",
    "                \n",
    "    def parse_newspage(self, response):\n",
    "        links = response.xpath('//a[contains(@href,\"/article/\")]/@href').extract() #extract hyperlink\n",
    "        for url in links:\n",
    "            yield response.follow(url = url,callback = self.parse_article)    \n",
    "\n",
    "    def parse_article(self, response):\n",
    "            \n",
    "        item = FerrariItem()\n",
    "        item['article_link'] = response.url\n",
    "        item['article_headline'] = response.xpath('//*[contains(@class,\"ArticleHeader_headline\")]/text()').extract()\n",
    "        item['article_date'] = response.xpath('//*[contains(@class,\"ArticleHeader_date\")]/text()').extract()\n",
    "        item['article_text'] = response.xpath('//div[@class=\"StandardArticleBody_body\"]//p/text()').extract()\n",
    "        \n",
    "        print(item)\n",
    "        \n",
    "        #saving data to file.\n",
    "        path = 'news/'\n",
    "        file = 'ferrarinews_' + str(datetime.now().strftime(\"%Y%m%d-%H%M\")) + '.csv'\n",
    "        file_name = open(path + file, 'a')\n",
    "\n",
    "        fieldnames = ['article_link', 'article_headline','article_date','article_text'] #adding header to file\n",
    "\n",
    "        writer = csv.writer(file_name, lineterminator='\\n')\n",
    "        writer.writerow([item[key] for key in item.keys()])"
   ]
  }
 ],
 "metadata": {
  "kernelspec": {
   "display_name": "Python 3",
   "language": "python",
   "name": "python3"
  },
  "language_info": {
   "codemirror_mode": {
    "name": "ipython",
    "version": 3
   },
   "file_extension": ".py",
   "mimetype": "text/x-python",
   "name": "python",
   "nbconvert_exporter": "python",
   "pygments_lexer": "ipython3",
   "version": "3.7.7"
  }
 },
 "nbformat": 4,
 "nbformat_minor": 4
}
