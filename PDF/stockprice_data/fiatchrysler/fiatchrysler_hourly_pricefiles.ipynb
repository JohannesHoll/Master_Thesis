{
 "cells": [
  {
   "cell_type": "code",
   "execution_count": null,
   "metadata": {},
   "outputs": [],
   "source": [
    "# needed libraries\n",
    "import eikon as ek\n",
    "from datetime import datetime, timedelta, timezone\n",
    "from dateutil.rrule import rrule, DAILY\n",
    "import pandas as pd\n",
    "import pytz\n",
    "import logging\n",
    "\n",
    "#surpress error\n",
    "logger = logging.getLogger('pyeikon')\n",
    "logger.setLevel(logging.CRITICAL)\n",
    "\n",
    "#Reuters API Key\n",
    "ek.set_app_key('7562ce3840dd4ebab1a05f901ca0777c959e70e8')\n",
    "\n",
    "# date modfication\n",
    "start_date = datetime(2019, 1, 1, tzinfo=timezone.utc)\n",
    "end_date = datetime(2020, 8, 3, tzinfo=timezone.utc)\n",
    "date_range = pd.date_range(start=start_date, end=end_date, freq='D')\n",
    "# RIC, fields, time to receive stock prices\n",
    "rics = ['FCHA.MI']\n",
    "fields = ['OPEN', 'HIGH', 'LOW', 'CLOSE', 'VOLUME']\n",
    "for date in date_range:\n",
    "    try:\n",
    "        sdate = str(date)[0:10] + 'T07:00:00'\n",
    "        edate = str(date)[0:10] + 'T22:01:00'\n",
    "        df = ek.get_timeseries(rics=rics,\n",
    "                               fields=fields,\n",
    "                               start_date=sdate,\n",
    "                               end_date=edate,\n",
    "                               interval='hour').dropna()\n",
    "\n",
    "        #print(df)\n",
    "\n",
    "        # safe to csv\n",
    "        df.to_csv(r'C:\\Users\\victo\\Master_Thesis\\stockprice_data\\fiatchrysler\\hourly_stock_prices\\fiatchrysler_prices_' + str(date)[0:10] + '.csv')\n",
    "        print('File of ' + str(date)[0:10] + ' has been saved!')\n",
    "    except ek.EikonError as err:\n",
    "        print('Ignore Error Code:{0} Message:{1}'.format(err.code, err.message))"
   ]
  }
 ],
 "metadata": {
  "kernelspec": {
   "display_name": "Python 3",
   "language": "python",
   "name": "python3"
  },
  "language_info": {
   "codemirror_mode": {
    "name": "ipython",
    "version": 3
   },
   "file_extension": ".py",
   "mimetype": "text/x-python",
   "name": "python",
   "nbconvert_exporter": "python",
   "pygments_lexer": "ipython3",
   "version": "3.7.7"
  }
 },
 "nbformat": 4,
 "nbformat_minor": 4
}
